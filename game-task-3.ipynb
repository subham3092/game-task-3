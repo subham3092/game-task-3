{
 "cells": [
  {
   "cell_type": "code",
   "execution_count": 22,
   "id": "5c8f6a8a-050f-4244-b367-848fafe9b3bb",
   "metadata": {},
   "outputs": [
    {
     "name": "stdout",
     "output_type": "stream",
     "text": [
      "**** Welcom to Rock-Paper-Scissors! ****\n"
     ]
    },
    {
     "name": "stdin",
     "output_type": "stream",
     "text": [
      "Choose Rock, Paper, or Scissors:  Rock\n"
     ]
    },
    {
     "name": "stdout",
     "output_type": "stream",
     "text": [
      "\n",
      "You chose: Rock\n",
      "Computer chose: Scissors\n",
      "You Win this Round!\n",
      "\n",
      "Score → You: 1 | Compter: 0\n"
     ]
    },
    {
     "name": "stdin",
     "output_type": "stream",
     "text": [
      "\n",
      "Do you want to play again? (yes / no):  on\n"
     ]
    },
    {
     "name": "stdout",
     "output_type": "stream",
     "text": [
      "\n",
      " Thanks for playing! Final Score:\n",
      "You: 1 | Computer: 0\n"
     ]
    }
   ],
   "source": [
    "import random\n",
    "\n",
    "def get_user_choice():\n",
    "    choices = ['rock', 'paper', 'scissors']\n",
    "    while True:\n",
    "        user_input = input(\"Choose Rock, Paper, or Scissors: \").lower()\n",
    "        if user_input in choices:\n",
    "            return user_input\n",
    "        else:\n",
    "            print(\"Invalid input. Please choose Rock, Paper, or Scissors.\")\n",
    "\n",
    "def get_computer_choice():\n",
    "    return random.choice(['rock', 'paper', 'scissors'])\n",
    "\n",
    "def determine_winner(user, computer):\n",
    "    if user == computer:\n",
    "        return 'Tie'\n",
    "    elif (user == 'rock' and computer == 'scissors') or \\\n",
    "         (user == 'paper' and computer == 'rock') or \\\n",
    "         (user == 'scissors' and computer == 'paper'):\n",
    "        return \"user\"\n",
    "    else:\n",
    "        return \"computer\"\n",
    "\n",
    "def play_game():\n",
    "    user_score = 0\n",
    "    computer_score = 0\n",
    "\n",
    "    print(\"**** Welcom to Rock-Paper-Scissors! ****\")\n",
    "    while True:\n",
    "        user_choice = get_user_choice()\n",
    "        computer_choice = get_computer_choice()\n",
    "        print(f\"\\nYou chose: {user_choice.capitalize()}\")\n",
    "        print(f\"Computer chose: {computer_choice.capitalize()}\")\n",
    "\n",
    "        result = determine_winner(user_choice, computer_choice)\n",
    "\n",
    "        if result == \"Tie\":\n",
    "            print(\"It's a Tie!\")\n",
    "        elif result == \"user\":\n",
    "            print(\"You Win this Round!\")\n",
    "            user_score += 1\n",
    "        else:\n",
    "            print(\"Computer wins this Round.\")\n",
    "            computer_score += 1\n",
    "\n",
    "        print(f\"\\nScore → You: {user_score} | Compter: {computer_score}\")\n",
    "\n",
    "        play_again = input(\"\\nDo you want to play again? (yes / no): \").strip().lower()\n",
    "        if play_again != 'yes':\n",
    "            print(\"\\n Thanks for playing! Final Score:\")\n",
    "            print(f\"You: {user_score} | Computer: {computer_score}\")\n",
    "            break\n",
    "play_game()"
   ]
  },
  {
   "cell_type": "code",
   "execution_count": null,
   "id": "b2ab8da2-4d90-4984-ab78-9386542308de",
   "metadata": {},
   "outputs": [],
   "source": []
  }
 ],
 "metadata": {
  "kernelspec": {
   "display_name": "Python 3 (ipykernel)",
   "language": "python",
   "name": "python3"
  },
  "language_info": {
   "codemirror_mode": {
    "name": "ipython",
    "version": 3
   },
   "file_extension": ".py",
   "mimetype": "text/x-python",
   "name": "python",
   "nbconvert_exporter": "python",
   "pygments_lexer": "ipython3",
   "version": "3.13.1"
  },
  "widgets": {
   "application/vnd.jupyter.widget-state+json": {
    "state": {},
    "version_major": 2,
    "version_minor": 0
   }
  }
 },
 "nbformat": 4,
 "nbformat_minor": 5
}
